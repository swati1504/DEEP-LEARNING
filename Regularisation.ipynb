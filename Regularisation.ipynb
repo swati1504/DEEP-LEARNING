{
 "cells": [
  {
   "cell_type": "code",
   "execution_count": 1,
   "metadata": {},
   "outputs": [],
   "source": [
    "import tensorflow"
   ]
  },
  {
   "cell_type": "code",
   "execution_count": 2,
   "metadata": {},
   "outputs": [],
   "source": [
    "from tensorflow.keras import Sequential"
   ]
  },
  {
   "cell_type": "code",
   "execution_count": 3,
   "metadata": {},
   "outputs": [],
   "source": [
    "import livelossplot"
   ]
  },
  {
   "cell_type": "code",
   "execution_count": 4,
   "metadata": {},
   "outputs": [],
   "source": [
    "from livelossplot import PlotLossesKerasTF"
   ]
  },
  {
   "cell_type": "code",
   "execution_count": 5,
   "metadata": {},
   "outputs": [],
   "source": [
    "import pandas as pd\n",
    "df=pd.read_csv(\"mnist_train.csv\")"
   ]
  },
  {
   "cell_type": "code",
   "execution_count": 6,
   "metadata": {},
   "outputs": [
    {
     "data": {
      "text/html": [
       "<div>\n",
       "<style scoped>\n",
       "    .dataframe tbody tr th:only-of-type {\n",
       "        vertical-align: middle;\n",
       "    }\n",
       "\n",
       "    .dataframe tbody tr th {\n",
       "        vertical-align: top;\n",
       "    }\n",
       "\n",
       "    .dataframe thead th {\n",
       "        text-align: right;\n",
       "    }\n",
       "</style>\n",
       "<table border=\"1\" class=\"dataframe\">\n",
       "  <thead>\n",
       "    <tr style=\"text-align: right;\">\n",
       "      <th></th>\n",
       "      <th>label</th>\n",
       "      <th>1x1</th>\n",
       "      <th>1x2</th>\n",
       "      <th>1x3</th>\n",
       "      <th>1x4</th>\n",
       "      <th>1x5</th>\n",
       "      <th>1x6</th>\n",
       "      <th>1x7</th>\n",
       "      <th>1x8</th>\n",
       "      <th>1x9</th>\n",
       "      <th>...</th>\n",
       "      <th>28x19</th>\n",
       "      <th>28x20</th>\n",
       "      <th>28x21</th>\n",
       "      <th>28x22</th>\n",
       "      <th>28x23</th>\n",
       "      <th>28x24</th>\n",
       "      <th>28x25</th>\n",
       "      <th>28x26</th>\n",
       "      <th>28x27</th>\n",
       "      <th>28x28</th>\n",
       "    </tr>\n",
       "  </thead>\n",
       "  <tbody>\n",
       "    <tr>\n",
       "      <th>0</th>\n",
       "      <td>5</td>\n",
       "      <td>0</td>\n",
       "      <td>0</td>\n",
       "      <td>0</td>\n",
       "      <td>0</td>\n",
       "      <td>0</td>\n",
       "      <td>0</td>\n",
       "      <td>0</td>\n",
       "      <td>0</td>\n",
       "      <td>0</td>\n",
       "      <td>...</td>\n",
       "      <td>0</td>\n",
       "      <td>0</td>\n",
       "      <td>0</td>\n",
       "      <td>0</td>\n",
       "      <td>0</td>\n",
       "      <td>0</td>\n",
       "      <td>0</td>\n",
       "      <td>0</td>\n",
       "      <td>0</td>\n",
       "      <td>0</td>\n",
       "    </tr>\n",
       "    <tr>\n",
       "      <th>1</th>\n",
       "      <td>0</td>\n",
       "      <td>0</td>\n",
       "      <td>0</td>\n",
       "      <td>0</td>\n",
       "      <td>0</td>\n",
       "      <td>0</td>\n",
       "      <td>0</td>\n",
       "      <td>0</td>\n",
       "      <td>0</td>\n",
       "      <td>0</td>\n",
       "      <td>...</td>\n",
       "      <td>0</td>\n",
       "      <td>0</td>\n",
       "      <td>0</td>\n",
       "      <td>0</td>\n",
       "      <td>0</td>\n",
       "      <td>0</td>\n",
       "      <td>0</td>\n",
       "      <td>0</td>\n",
       "      <td>0</td>\n",
       "      <td>0</td>\n",
       "    </tr>\n",
       "    <tr>\n",
       "      <th>2</th>\n",
       "      <td>4</td>\n",
       "      <td>0</td>\n",
       "      <td>0</td>\n",
       "      <td>0</td>\n",
       "      <td>0</td>\n",
       "      <td>0</td>\n",
       "      <td>0</td>\n",
       "      <td>0</td>\n",
       "      <td>0</td>\n",
       "      <td>0</td>\n",
       "      <td>...</td>\n",
       "      <td>0</td>\n",
       "      <td>0</td>\n",
       "      <td>0</td>\n",
       "      <td>0</td>\n",
       "      <td>0</td>\n",
       "      <td>0</td>\n",
       "      <td>0</td>\n",
       "      <td>0</td>\n",
       "      <td>0</td>\n",
       "      <td>0</td>\n",
       "    </tr>\n",
       "    <tr>\n",
       "      <th>3</th>\n",
       "      <td>1</td>\n",
       "      <td>0</td>\n",
       "      <td>0</td>\n",
       "      <td>0</td>\n",
       "      <td>0</td>\n",
       "      <td>0</td>\n",
       "      <td>0</td>\n",
       "      <td>0</td>\n",
       "      <td>0</td>\n",
       "      <td>0</td>\n",
       "      <td>...</td>\n",
       "      <td>0</td>\n",
       "      <td>0</td>\n",
       "      <td>0</td>\n",
       "      <td>0</td>\n",
       "      <td>0</td>\n",
       "      <td>0</td>\n",
       "      <td>0</td>\n",
       "      <td>0</td>\n",
       "      <td>0</td>\n",
       "      <td>0</td>\n",
       "    </tr>\n",
       "    <tr>\n",
       "      <th>4</th>\n",
       "      <td>9</td>\n",
       "      <td>0</td>\n",
       "      <td>0</td>\n",
       "      <td>0</td>\n",
       "      <td>0</td>\n",
       "      <td>0</td>\n",
       "      <td>0</td>\n",
       "      <td>0</td>\n",
       "      <td>0</td>\n",
       "      <td>0</td>\n",
       "      <td>...</td>\n",
       "      <td>0</td>\n",
       "      <td>0</td>\n",
       "      <td>0</td>\n",
       "      <td>0</td>\n",
       "      <td>0</td>\n",
       "      <td>0</td>\n",
       "      <td>0</td>\n",
       "      <td>0</td>\n",
       "      <td>0</td>\n",
       "      <td>0</td>\n",
       "    </tr>\n",
       "  </tbody>\n",
       "</table>\n",
       "<p>5 rows × 785 columns</p>\n",
       "</div>"
      ],
      "text/plain": [
       "   label  1x1  1x2  1x3  1x4  1x5  1x6  1x7  1x8  1x9  ...  28x19  28x20  \\\n",
       "0      5    0    0    0    0    0    0    0    0    0  ...      0      0   \n",
       "1      0    0    0    0    0    0    0    0    0    0  ...      0      0   \n",
       "2      4    0    0    0    0    0    0    0    0    0  ...      0      0   \n",
       "3      1    0    0    0    0    0    0    0    0    0  ...      0      0   \n",
       "4      9    0    0    0    0    0    0    0    0    0  ...      0      0   \n",
       "\n",
       "   28x21  28x22  28x23  28x24  28x25  28x26  28x27  28x28  \n",
       "0      0      0      0      0      0      0      0      0  \n",
       "1      0      0      0      0      0      0      0      0  \n",
       "2      0      0      0      0      0      0      0      0  \n",
       "3      0      0      0      0      0      0      0      0  \n",
       "4      0      0      0      0      0      0      0      0  \n",
       "\n",
       "[5 rows x 785 columns]"
      ]
     },
     "execution_count": 6,
     "metadata": {},
     "output_type": "execute_result"
    }
   ],
   "source": [
    "df.head()"
   ]
  },
  {
   "cell_type": "code",
   "execution_count": 7,
   "metadata": {},
   "outputs": [
    {
     "data": {
      "text/plain": [
       "255"
      ]
     },
     "execution_count": 7,
     "metadata": {},
     "output_type": "execute_result"
    }
   ],
   "source": [
    "df.max().max()"
   ]
  },
  {
   "cell_type": "code",
   "execution_count": 8,
   "metadata": {},
   "outputs": [
    {
     "data": {
      "text/plain": [
       "(60000, 785)"
      ]
     },
     "execution_count": 8,
     "metadata": {},
     "output_type": "execute_result"
    }
   ],
   "source": [
    "df.shape"
   ]
  },
  {
   "cell_type": "code",
   "execution_count": 30,
   "metadata": {},
   "outputs": [
    {
     "data": {
      "image/png": "[encoded data removed]",
      "text/plain": [
       "<Figure size 432x288 with 1 Axes>"
      ]
     },
     "metadata": {
      "needs_background": "light"
     },
     "output_type": "display_data"
    }
   ],
   "source": [
    "img1=df.iloc[0,1:]\n",
    "img1.shape\n",
    "img1_reshaped=img1.values.reshape(28,28)\n",
    "from matplotlib import pyplot as plt\n",
    "plt.imshow(img1_reshaped)\n",
    "plt.show()\n",
    "# it is a handwritten 5"
   ]
  },
  {
   "cell_type": "code",
   "execution_count": 10,
   "metadata": {},
   "outputs": [],
   "source": [
    "from sklearn.model_selection import train_test_split\n",
    "x=df.drop(columns=\"label\")\n",
    "y=df.label\n",
    "#one hot encoding\n",
    "y=pd.get_dummies(y)\n",
    "\n",
    "x_train,x_test,y_train,y_test=train_test_split(x,y,stratify=y,random_state=0)"
   ]
  },
  {
   "cell_type": "code",
   "execution_count": 11,
   "metadata": {},
   "outputs": [],
   "source": [
    "# scaling data between 0 and 1\n",
    "## min max scalar\n",
    "x_train=x_train.values/255\n",
    "x_test=x_test.values/255"
   ]
  },
  {
   "cell_type": "code",
   "execution_count": 12,
   "metadata": {},
   "outputs": [],
   "source": [
    "import tensorflow\n",
    "from tensorflow.keras import Sequential\n",
    "from tensorflow.keras.layers import Dense, Dropout\n",
    "import livelossplot\n",
    "from livelossplot import PlotLossesKerasTF"
   ]
  },
  {
   "cell_type": "code",
   "execution_count": 13,
   "metadata": {},
   "outputs": [],
   "source": [
    "# build NN\n",
    "model=Sequential()\n",
    "model.add(Dense(128,activation=\"relu\",name=\"HiddenLayer1\"))\n",
    "model.add(Dense(64,activation=\"relu\",name=\"HiddenLayer2\"))\n",
    "model.add(Dense(32,activation=\"relu\",name=\"HiddenLayer3\"))\n",
    "model.add(Dense(10,activation=\"softmax\",name=\"OutputLayer\"))"
   ]
  },
  {
   "cell_type": "code",
   "execution_count": 14,
   "metadata": {},
   "outputs": [],
   "source": [
    "# compile \n",
    "model.compile(loss=\"categorical_crossentropy\",optimizer=\"adam\",metrics=['accuracy'])"
   ]
  },
  {
   "cell_type": "code",
   "execution_count": 15,
   "metadata": {},
   "outputs": [
    {
     "data": {
      "image/png": "[encoded data removed]",
      "text/plain": [
       "<Figure size 864x576 with 2 Axes>"
      ]
     },
     "metadata": {
      "needs_background": "light"
     },
     "output_type": "display_data"
    },
    {
     "name": "stdout",
     "output_type": "stream",
     "text": [
      "accuracy\n",
      "\ttraining         \t (min:    0.912, max:    0.998, cur:    0.998)\n",
      "\tvalidation       \t (min:    0.952, max:    0.980, cur:    0.975)\n",
      "Loss\n",
      "\ttraining         \t (min:    0.006, max:    0.298, cur:    0.006)\n",
      "\tvalidation       \t (min:    0.087, max:    0.219, cur:    0.212)\n",
      "1407/1407 [==============================] - 4s 3ms/step - loss: 0.0063 - accuracy: 0.9983 - val_loss: 0.2118 - val_accuracy: 0.9753\n"
     ]
    },
    {
     "data": {
      "text/plain": [
       "<keras.callbacks.History at 0x1e7018f9be0>"
      ]
     },
     "execution_count": 15,
     "metadata": {},
     "output_type": "execute_result"
    }
   ],
   "source": [
    "# train model\n",
    "model.fit(x_train,y_train,epochs=50,callbacks=[PlotLossesKerasTF()],validation_data=(x_test,y_test))"
   ]
  },
  {
   "cell_type": "code",
   "execution_count": 16,
   "metadata": {},
   "outputs": [
    {
     "name": "stdout",
     "output_type": "stream",
     "text": [
      "Model: \"sequential\"\n",
      "_________________________________________________________________\n",
      " Layer (type)                Output Shape              Param #   \n",
      "=================================================================\n",
      " HiddenLayer1 (Dense)        (None, 128)               100480    \n",
      "                                                                 \n",
      " HiddenLayer2 (Dense)        (None, 64)                8256      \n",
      "                                                                 \n",
      " HiddenLayer3 (Dense)        (None, 32)                2080      \n",
      "                                                                 \n",
      " OutputLayer (Dense)         (None, 10)                330       \n",
      "                                                                 \n",
      "=================================================================\n",
      "Total params: 111,146\n",
      "Trainable params: 111,146\n",
      "Non-trainable params: 0\n",
      "_________________________________________________________________\n"
     ]
    }
   ],
   "source": [
    "model.summary()"
   ]
  },
  {
   "cell_type": "markdown",
   "metadata": {},
   "source": [
    "# L2 Regularisation"
   ]
  },
  {
   "cell_type": "code",
   "execution_count": 17,
   "metadata": {},
   "outputs": [],
   "source": [
    "from tensorflow.keras.regularizers import l2\n",
    "# L2 Regularization\n",
    "# build NN\n",
    "model=Sequential()\n",
    "model.add(Dense(128,activation=\"relu\",kernel_regularizer=l2(0.001),name=\"HiddenLayer1\"))\n",
    "model.add(Dense(64,activation=\"relu\",kernel_regularizer=l2(0.001),name=\"HiddenLayer2\"))\n",
    "model.add(Dense(32,activation=\"relu\",kernel_regularizer=l2(0.001),name=\"HiddenLayer3\"))\n",
    "model.add(Dense(10,activation=\"softmax\",name=\"OutputLayer\"))"
   ]
  },
  {
   "cell_type": "code",
   "execution_count": 18,
   "metadata": {},
   "outputs": [
    {
     "data": {
      "image/png": "[encoded data removed]",
      "text/plain": [
       "<Figure size 864x576 with 2 Axes>"
      ]
     },
     "metadata": {
      "needs_background": "light"
     },
     "output_type": "display_data"
    },
    {
     "name": "stdout",
     "output_type": "stream",
     "text": [
      "accuracy\n",
      "\ttraining         \t (min:    0.907, max:    0.975, cur:    0.975)\n",
      "\tvalidation       \t (min:    0.949, max:    0.974, cur:    0.971)\n",
      "Loss\n",
      "\ttraining         \t (min:    0.186, max:    0.515, cur:    0.186)\n",
      "\tvalidation       \t (min:    0.198, max:    0.353, cur:    0.198)\n",
      "1407/1407 [==============================] - 7s 5ms/step - loss: 0.1864 - accuracy: 0.9746 - val_loss: 0.1980 - val_accuracy: 0.9714\n"
     ]
    },
    {
     "data": {
      "text/plain": [
       "<keras.callbacks.History at 0x1e701ea7280>"
      ]
     },
     "execution_count": 18,
     "metadata": {},
     "output_type": "execute_result"
    }
   ],
   "source": [
    "# compile \n",
    "model.compile(loss=\"categorical_crossentropy\",optimizer=\"adam\",metrics=['accuracy'])\n",
    "\n",
    "# train model\n",
    "model.fit(x_train,y_train,epochs=10,callbacks=[PlotLossesKerasTF()],validation_data=(x_test,y_test))"
   ]
  },
  {
   "cell_type": "markdown",
   "metadata": {},
   "source": [
    "# Dropout"
   ]
  },
  {
   "cell_type": "code",
   "execution_count": 19,
   "metadata": {},
   "outputs": [],
   "source": [
    "from tensorflow.keras.layers import Dropout\n",
    "\n",
    "# build NN\n",
    "model=Sequential()\n",
    "model.add(Dense(128,activation=\"relu\",name=\"HiddenLayer1\"))\n",
    "model.add(Dropout(0.20))\n",
    "model.add(Dense(64,activation=\"relu\",name=\"HiddenLayer2\"))\n",
    "model.add(Dropout(0.20))\n",
    "model.add(Dense(32,activation=\"relu\",name=\"HiddenLayer3\"))\n",
    "model.add(Dense(10,activation=\"softmax\",name=\"OutputLayer\"))"
   ]
  },
  {
   "cell_type": "code",
   "execution_count": 20,
   "metadata": {},
   "outputs": [
    {
     "data": {
      "image/png": "[encoded data removed]",
      "text/plain": [
       "<Figure size 864x576 with 2 Axes>"
      ]
     },
     "metadata": {
      "needs_background": "light"
     },
     "output_type": "display_data"
    },
    {
     "name": "stdout",
     "output_type": "stream",
     "text": [
      "accuracy\n",
      "\ttraining         \t (min:    0.882, max:    0.979, cur:    0.979)\n",
      "\tvalidation       \t (min:    0.952, max:    0.977, cur:    0.975)\n",
      "Loss\n",
      "\ttraining         \t (min:    0.069, max:    0.388, cur:    0.069)\n",
      "\tvalidation       \t (min:    0.083, max:    0.164, cur:    0.090)\n",
      "1407/1407 [==============================] - 6s 4ms/step - loss: 0.0692 - accuracy: 0.9787 - val_loss: 0.0900 - val_accuracy: 0.9753\n"
     ]
    },
    {
     "data": {
      "text/plain": [
       "<keras.callbacks.History at 0x1e70228d970>"
      ]
     },
     "execution_count": 20,
     "metadata": {},
     "output_type": "execute_result"
    }
   ],
   "source": [
    "# compile \n",
    "model.compile(loss=\"categorical_crossentropy\",optimizer=\"adam\",metrics=['accuracy'])\n",
    "\n",
    "# train model\n",
    "model.fit(x_train,y_train,epochs=10,callbacks=[PlotLossesKerasTF()],validation_data=(x_test,y_test))"
   ]
  },
  {
   "cell_type": "code",
   "execution_count": 21,
   "metadata": {},
   "outputs": [
    {
     "data": {
      "text/plain": [
       "array([[9.6714741e-01, 5.6533922e-06, 1.4895018e-03, ..., 3.8142629e-05,\n",
       "        1.0533435e-02, 1.8034399e-02],\n",
       "       [3.0506274e-18, 2.6980335e-15, 9.4339690e-21, ..., 6.1358800e-19,\n",
       "        7.1925091e-14, 1.0364567e-09],\n",
       "       [9.9999917e-01, 1.6587799e-10, 7.6510752e-08, ..., 1.2495123e-10,\n",
       "        3.3729178e-10, 3.0056256e-08],\n",
       "       ...,\n",
       "       [4.9916055e-10, 8.2961522e-09, 1.5614411e-08, ..., 3.0305071e-07,\n",
       "        2.2156529e-07, 1.9563236e-03],\n",
       "       [2.1015373e-08, 2.0990011e-12, 2.3702640e-09, ..., 8.7482385e-07,\n",
       "        3.8279449e-08, 9.9999738e-01],\n",
       "       [7.0633052e-17, 1.5184005e-12, 2.2203060e-16, ..., 4.0248456e-15,\n",
       "        3.1464180e-12, 1.5126195e-08]], dtype=float32)"
      ]
     },
     "execution_count": 21,
     "metadata": {},
     "output_type": "execute_result"
    }
   ],
   "source": [
    "model.predict(x_train)"
   ]
  },
  {
   "cell_type": "code",
   "execution_count": 22,
   "metadata": {},
   "outputs": [
    {
     "data": {
      "text/html": [
       "<div>\n",
       "<style scoped>\n",
       "    .dataframe tbody tr th:only-of-type {\n",
       "        vertical-align: middle;\n",
       "    }\n",
       "\n",
       "    .dataframe tbody tr th {\n",
       "        vertical-align: top;\n",
       "    }\n",
       "\n",
       "    .dataframe thead th {\n",
       "        text-align: right;\n",
       "    }\n",
       "</style>\n",
       "<table border=\"1\" class=\"dataframe\">\n",
       "  <thead>\n",
       "    <tr style=\"text-align: right;\">\n",
       "      <th></th>\n",
       "      <th>0</th>\n",
       "      <th>1</th>\n",
       "      <th>2</th>\n",
       "      <th>3</th>\n",
       "      <th>4</th>\n",
       "      <th>5</th>\n",
       "      <th>6</th>\n",
       "      <th>7</th>\n",
       "      <th>8</th>\n",
       "      <th>9</th>\n",
       "    </tr>\n",
       "  </thead>\n",
       "  <tbody>\n",
       "    <tr>\n",
       "      <th>0</th>\n",
       "      <td>9.671474e-01</td>\n",
       "      <td>5.653392e-06</td>\n",
       "      <td>1.489502e-03</td>\n",
       "      <td>4.015253e-04</td>\n",
       "      <td>5.513565e-04</td>\n",
       "      <td>1.088687e-03</td>\n",
       "      <td>7.099090e-04</td>\n",
       "      <td>3.814263e-05</td>\n",
       "      <td>1.053344e-02</td>\n",
       "      <td>1.803440e-02</td>\n",
       "    </tr>\n",
       "    <tr>\n",
       "      <th>1</th>\n",
       "      <td>3.050627e-18</td>\n",
       "      <td>2.698034e-15</td>\n",
       "      <td>9.433969e-21</td>\n",
       "      <td>9.462878e-13</td>\n",
       "      <td>1.660687e-18</td>\n",
       "      <td>1.000000e+00</td>\n",
       "      <td>4.496664e-19</td>\n",
       "      <td>6.135880e-19</td>\n",
       "      <td>7.192509e-14</td>\n",
       "      <td>1.036457e-09</td>\n",
       "    </tr>\n",
       "    <tr>\n",
       "      <th>2</th>\n",
       "      <td>9.999992e-01</td>\n",
       "      <td>1.658780e-10</td>\n",
       "      <td>7.651075e-08</td>\n",
       "      <td>1.852050e-09</td>\n",
       "      <td>8.488419e-09</td>\n",
       "      <td>1.820054e-08</td>\n",
       "      <td>7.506658e-07</td>\n",
       "      <td>1.249512e-10</td>\n",
       "      <td>3.372918e-10</td>\n",
       "      <td>3.005626e-08</td>\n",
       "    </tr>\n",
       "    <tr>\n",
       "      <th>3</th>\n",
       "      <td>4.784311e-08</td>\n",
       "      <td>1.073190e-10</td>\n",
       "      <td>8.464823e-09</td>\n",
       "      <td>9.136037e-12</td>\n",
       "      <td>6.290325e-07</td>\n",
       "      <td>9.578054e-07</td>\n",
       "      <td>9.999983e-01</td>\n",
       "      <td>7.844483e-12</td>\n",
       "      <td>7.455149e-09</td>\n",
       "      <td>9.107851e-12</td>\n",
       "    </tr>\n",
       "    <tr>\n",
       "      <th>4</th>\n",
       "      <td>2.039978e-09</td>\n",
       "      <td>2.463199e-10</td>\n",
       "      <td>8.723809e-10</td>\n",
       "      <td>7.577184e-09</td>\n",
       "      <td>1.231112e-04</td>\n",
       "      <td>1.440981e-10</td>\n",
       "      <td>1.145382e-14</td>\n",
       "      <td>3.100063e-06</td>\n",
       "      <td>1.031820e-08</td>\n",
       "      <td>9.998738e-01</td>\n",
       "    </tr>\n",
       "    <tr>\n",
       "      <th>...</th>\n",
       "      <td>...</td>\n",
       "      <td>...</td>\n",
       "      <td>...</td>\n",
       "      <td>...</td>\n",
       "      <td>...</td>\n",
       "      <td>...</td>\n",
       "      <td>...</td>\n",
       "      <td>...</td>\n",
       "      <td>...</td>\n",
       "      <td>...</td>\n",
       "    </tr>\n",
       "    <tr>\n",
       "      <th>44995</th>\n",
       "      <td>6.448899e-12</td>\n",
       "      <td>2.042365e-06</td>\n",
       "      <td>9.999973e-01</td>\n",
       "      <td>4.186233e-07</td>\n",
       "      <td>8.413192e-13</td>\n",
       "      <td>1.213462e-07</td>\n",
       "      <td>8.207779e-08</td>\n",
       "      <td>3.392367e-08</td>\n",
       "      <td>5.901167e-10</td>\n",
       "      <td>3.933731e-14</td>\n",
       "    </tr>\n",
       "    <tr>\n",
       "      <th>44996</th>\n",
       "      <td>1.786535e-05</td>\n",
       "      <td>2.673639e-08</td>\n",
       "      <td>2.592181e-06</td>\n",
       "      <td>2.826507e-06</td>\n",
       "      <td>4.863428e-03</td>\n",
       "      <td>7.292725e-07</td>\n",
       "      <td>4.338543e-09</td>\n",
       "      <td>2.407787e-04</td>\n",
       "      <td>6.018702e-06</td>\n",
       "      <td>9.948657e-01</td>\n",
       "    </tr>\n",
       "    <tr>\n",
       "      <th>44997</th>\n",
       "      <td>4.991605e-10</td>\n",
       "      <td>8.296152e-09</td>\n",
       "      <td>1.561441e-08</td>\n",
       "      <td>9.980025e-01</td>\n",
       "      <td>5.760302e-10</td>\n",
       "      <td>4.055638e-05</td>\n",
       "      <td>6.280409e-17</td>\n",
       "      <td>3.030507e-07</td>\n",
       "      <td>2.215653e-07</td>\n",
       "      <td>1.956324e-03</td>\n",
       "    </tr>\n",
       "    <tr>\n",
       "      <th>44998</th>\n",
       "      <td>2.101537e-08</td>\n",
       "      <td>2.099001e-12</td>\n",
       "      <td>2.370264e-09</td>\n",
       "      <td>2.213447e-08</td>\n",
       "      <td>1.682396e-06</td>\n",
       "      <td>2.407733e-09</td>\n",
       "      <td>1.079088e-14</td>\n",
       "      <td>8.748239e-07</td>\n",
       "      <td>3.827945e-08</td>\n",
       "      <td>9.999974e-01</td>\n",
       "    </tr>\n",
       "    <tr>\n",
       "      <th>44999</th>\n",
       "      <td>7.063305e-17</td>\n",
       "      <td>1.518401e-12</td>\n",
       "      <td>2.220306e-16</td>\n",
       "      <td>9.477998e-09</td>\n",
       "      <td>4.026871e-16</td>\n",
       "      <td>1.000000e+00</td>\n",
       "      <td>5.746809e-17</td>\n",
       "      <td>4.024846e-15</td>\n",
       "      <td>3.146418e-12</td>\n",
       "      <td>1.512620e-08</td>\n",
       "    </tr>\n",
       "  </tbody>\n",
       "</table>\n",
       "<p>45000 rows × 10 columns</p>\n",
       "</div>"
      ],
      "text/plain": [
       "                  0             1             2             3             4  \\\n",
       "0      9.671474e-01  5.653392e-06  1.489502e-03  4.015253e-04  5.513565e-04   \n",
       "1      3.050627e-18  2.698034e-15  9.433969e-21  9.462878e-13  1.660687e-18   \n",
       "2      9.999992e-01  1.658780e-10  7.651075e-08  1.852050e-09  8.488419e-09   \n",
       "3      4.784311e-08  1.073190e-10  8.464823e-09  9.136037e-12  6.290325e-07   \n",
       "4      2.039978e-09  2.463199e-10  8.723809e-10  7.577184e-09  1.231112e-04   \n",
       "...             ...           ...           ...           ...           ...   \n",
       "44995  6.448899e-12  2.042365e-06  9.999973e-01  4.186233e-07  8.413192e-13   \n",
       "44996  1.786535e-05  2.673639e-08  2.592181e-06  2.826507e-06  4.863428e-03   \n",
       "44997  4.991605e-10  8.296152e-09  1.561441e-08  9.980025e-01  5.760302e-10   \n",
       "44998  2.101537e-08  2.099001e-12  2.370264e-09  2.213447e-08  1.682396e-06   \n",
       "44999  7.063305e-17  1.518401e-12  2.220306e-16  9.477998e-09  4.026871e-16   \n",
       "\n",
       "                  5             6             7             8             9  \n",
       "0      1.088687e-03  7.099090e-04  3.814263e-05  1.053344e-02  1.803440e-02  \n",
       "1      1.000000e+00  4.496664e-19  6.135880e-19  7.192509e-14  1.036457e-09  \n",
       "2      1.820054e-08  7.506658e-07  1.249512e-10  3.372918e-10  3.005626e-08  \n",
       "3      9.578054e-07  9.999983e-01  7.844483e-12  7.455149e-09  9.107851e-12  \n",
       "4      1.440981e-10  1.145382e-14  3.100063e-06  1.031820e-08  9.998738e-01  \n",
       "...             ...           ...           ...           ...           ...  \n",
       "44995  1.213462e-07  8.207779e-08  3.392367e-08  5.901167e-10  3.933731e-14  \n",
       "44996  7.292725e-07  4.338543e-09  2.407787e-04  6.018702e-06  9.948657e-01  \n",
       "44997  4.055638e-05  6.280409e-17  3.030507e-07  2.215653e-07  1.956324e-03  \n",
       "44998  2.407733e-09  1.079088e-14  8.748239e-07  3.827945e-08  9.999974e-01  \n",
       "44999  1.000000e+00  5.746809e-17  4.024846e-15  3.146418e-12  1.512620e-08  \n",
       "\n",
       "[45000 rows x 10 columns]"
      ]
     },
     "execution_count": 22,
     "metadata": {},
     "output_type": "execute_result"
    }
   ],
   "source": [
    "#it predicts how much probibility the image(rows) has of being the above classes(columns)\n",
    "pd.DataFrame(model.predict(x_train))"
   ]
  },
  {
   "cell_type": "code",
   "execution_count": 23,
   "metadata": {},
   "outputs": [
    {
     "data": {
      "text/plain": [
       "array([0, 5, 0, ..., 3, 9, 5], dtype=int64)"
      ]
     },
     "execution_count": 23,
     "metadata": {},
     "output_type": "execute_result"
    }
   ],
   "source": [
    "# highest probability means that is the class of that particular image\n",
    "model.predict(x_train).argmax(axis=1)"
   ]
  },
  {
   "cell_type": "code",
   "execution_count": 24,
   "metadata": {},
   "outputs": [
    {
     "data": {
      "text/plain": [
       "array([4, 3, 8, ..., 8, 7, 2], dtype=int64)"
      ]
     },
     "execution_count": 24,
     "metadata": {},
     "output_type": "execute_result"
    }
   ],
   "source": [
    "model.predict(x_test).argmax(axis=1)"
   ]
  },
  {
   "cell_type": "code",
   "execution_count": 25,
   "metadata": {},
   "outputs": [
    {
     "name": "stdout",
     "output_type": "stream",
     "text": [
      "[array([[ 0.05476829,  0.06789946, -0.05272237, ..., -0.03072243,\n",
      "        -0.00563551, -0.04432626],\n",
      "       [ 0.04887571, -0.00113611, -0.01313007, ...,  0.06679711,\n",
      "        -0.01381899,  0.058864  ],\n",
      "       [-0.02006053,  0.05260234, -0.0365941 , ..., -0.00488975,\n",
      "        -0.00397321, -0.04345217],\n",
      "       ...,\n",
      "       [ 0.00328585,  0.0237186 , -0.01664198, ...,  0.01303127,\n",
      "        -0.03585928, -0.04672988],\n",
      "       [ 0.07690532, -0.07279905, -0.06902581, ...,  0.00411453,\n",
      "        -0.07936489,  0.07438921],\n",
      "       [ 0.06831376, -0.06884868, -0.04213108, ..., -0.0725349 ,\n",
      "        -0.06827356, -0.01032141]], dtype=float32), array([-2.53804903e-02, -7.99798816e-02, -2.42544692e-02,  1.14649907e-01,\n",
      "       -2.26535145e-02,  1.89084392e-02, -1.13279849e-01,  4.69883829e-02,\n",
      "       -9.94635224e-02,  2.63729721e-01,  1.32417642e-02,  9.56214964e-02,\n",
      "        1.26899078e-01,  1.12375647e-01, -6.45362735e-02, -9.17328373e-02,\n",
      "        4.52378392e-02, -7.78922737e-02,  1.24532938e-01,  2.86652297e-02,\n",
      "        5.50205074e-02, -5.72955385e-02,  1.16213948e-01, -1.42875630e-02,\n",
      "        7.64577240e-02,  3.40257920e-02, -9.28501599e-03,  2.76314802e-02,\n",
      "       -1.31095871e-01,  2.08621863e-02,  1.51203154e-02, -6.59789816e-02,\n",
      "       -4.63018678e-02,  1.66194007e-01,  8.86705592e-02,  6.12471551e-02,\n",
      "       -9.15306211e-02, -5.79964854e-02, -5.62238842e-02, -8.10992122e-02,\n",
      "       -7.03132898e-02,  2.15053707e-01, -5.17394319e-02,  7.88807590e-03,\n",
      "       -1.72356714e-03, -1.02062235e-02, -4.97749336e-02, -6.76740753e-03,\n",
      "       -1.00680776e-01,  2.55215373e-02, -1.76129222e-01,  1.28267244e-01,\n",
      "       -9.34527162e-03, -1.50635904e-02,  3.63910608e-02,  4.59919795e-02,\n",
      "       -8.63132440e-03, -4.22379263e-02,  2.30728867e-04, -9.35233012e-02,\n",
      "        6.82677254e-02,  7.73643958e-04, -4.33343761e-02, -9.47278365e-02,\n",
      "       -1.10570192e-01,  7.71495923e-02,  1.73873883e-02,  1.11347521e-02,\n",
      "       -9.38720070e-03,  1.14122048e-01, -5.60358586e-03, -1.60800368e-01,\n",
      "        5.58134392e-02,  6.47080690e-02, -6.22814931e-02, -1.11640789e-01,\n",
      "       -2.05758110e-01, -1.38459414e-01,  2.81074028e-02, -1.61276609e-01,\n",
      "       -8.36612955e-02, -1.16905244e-03,  1.50204778e-01,  1.01802103e-01,\n",
      "       -1.59124210e-01,  8.67990311e-03, -2.03501254e-01,  1.17310047e-01,\n",
      "        4.75947447e-02,  1.32483780e-01,  1.06663063e-01, -1.31203860e-01,\n",
      "       -6.68473616e-02, -1.00282133e-01,  8.65022535e-04, -1.90463454e-01,\n",
      "       -5.02319969e-02, -1.39421865e-01,  9.15735494e-04, -5.03506847e-02,\n",
      "        1.33303637e-02,  3.69817726e-02, -7.08022267e-02,  1.21858843e-01,\n",
      "        2.65656319e-03,  4.61584292e-02, -2.34986525e-02, -5.15334047e-02,\n",
      "       -8.85548443e-02,  1.36720806e-01, -2.37097982e-02, -4.69022766e-02,\n",
      "       -1.39317885e-01, -1.54420003e-01, -1.17283508e-01, -6.01999722e-02,\n",
      "        5.08463196e-02, -1.37095481e-01, -5.49620599e-04,  3.78871299e-02,\n",
      "       -4.79273982e-02, -3.71665396e-02, -9.17359814e-02,  5.54974638e-02,\n",
      "        4.59466726e-02,  1.40576929e-01, -6.75271004e-02,  7.13482499e-02],\n",
      "      dtype=float32)]\n",
      "[]\n",
      "[array([[ 0.07074494, -0.09478056, -0.09285744, ...,  0.0185133 ,\n",
      "        -0.02630292, -0.12927614],\n",
      "       [ 0.17842248, -0.05404412,  0.04631689, ...,  0.02886796,\n",
      "         0.08475287, -0.0442907 ],\n",
      "       [ 0.02669981, -0.00922089,  0.35186702, ...,  0.28541788,\n",
      "        -0.1628474 ,  0.04460351],\n",
      "       ...,\n",
      "       [-0.42722502, -0.1344689 , -0.2924676 , ..., -0.22313158,\n",
      "         0.16461655,  0.12879863],\n",
      "       [-0.33530647, -0.18237944,  0.061276  , ..., -0.03022592,\n",
      "        -0.13333817,  0.08514947],\n",
      "       [-0.13789591,  0.10974398,  0.01707087, ..., -0.05273069,\n",
      "         0.16845165,  0.01602229]], dtype=float32), array([ 0.06271499,  0.07686825, -0.08095641, -0.05372679, -0.08331674,\n",
      "        0.17227559,  0.04837087, -0.08879099,  0.01261576,  0.02519241,\n",
      "        0.00406429,  0.0643741 , -0.10541193,  0.06564676,  0.16420119,\n",
      "       -0.04422934,  0.4029879 ,  0.20840031, -0.09637897, -0.07568066,\n",
      "       -0.02162695,  0.17333451, -0.1338666 , -0.0931512 ,  0.16051984,\n",
      "       -0.10891256, -0.03884065, -0.05719104,  0.15347262, -0.05676167,\n",
      "        0.0706896 ,  0.16841699, -0.17236009,  0.29912403,  0.01681099,\n",
      "        0.04507939,  0.19742952,  0.14363115, -0.08688442,  0.16263066,\n",
      "       -0.19786884,  0.21434678, -0.02813221,  0.08260822,  0.07596068,\n",
      "       -0.14012231, -0.04533639,  0.02022277,  0.36589846,  0.03586681,\n",
      "       -0.09093585,  0.07477327,  0.2539296 ,  0.1091482 ,  0.18755214,\n",
      "        0.02662494,  0.00678494,  0.20941505, -0.02033726, -0.03842716,\n",
      "       -0.02764082,  0.18231772, -0.2733974 , -0.0879487 ], dtype=float32)]\n",
      "[]\n",
      "[array([[ 0.1966048 , -0.23902474, -0.0087796 , ..., -0.21621329,\n",
      "         0.09258612,  0.08644679],\n",
      "       [-0.29743543,  0.01108763, -0.1448405 , ...,  0.34351575,\n",
      "         0.09302129, -0.03761839],\n",
      "       [ 0.2999938 , -0.26792583, -0.24954171, ..., -0.08393873,\n",
      "         0.37430128, -0.32060936],\n",
      "       ...,\n",
      "       [-0.20244037, -0.01194741,  0.00381668, ..., -0.08106574,\n",
      "         0.16642924,  0.02305756],\n",
      "       [ 0.20114301, -0.44303018,  0.12664466, ...,  0.12282422,\n",
      "        -0.07599996,  0.11168182],\n",
      "       [ 0.1503909 ,  0.26612216,  0.30216035, ...,  0.05470982,\n",
      "         0.03484424,  0.14060219]], dtype=float32), array([ 0.10609571,  0.2842995 ,  0.01283008, -0.00986068,  0.28810826,\n",
      "        0.10548343,  0.03486333,  0.13305178, -0.12434588,  0.23442575,\n",
      "        0.28509954,  0.04599202,  0.18499872, -0.10023326,  0.2875547 ,\n",
      "        0.2863016 , -0.02468179,  0.07979224,  0.24556877, -0.09796051,\n",
      "       -0.12048436,  0.0546182 ,  0.19052456,  0.10976566, -0.0785478 ,\n",
      "        0.03405303,  0.19688025, -0.11613709,  0.29967988,  0.37747872,\n",
      "        0.17340629,  0.36170968], dtype=float32)]\n",
      "[array([[-0.32800153,  0.54894614,  0.1598221 ,  0.21611102,  0.02661747,\n",
      "        -0.23222746, -0.04772947,  0.32951805,  0.07247111, -0.4871302 ],\n",
      "       [ 0.4150126 , -0.19296892,  0.03101123,  0.10795837,  0.43353266,\n",
      "        -0.05227478, -0.21860182, -0.3367382 , -0.03324729,  0.3598042 ],\n",
      "       [ 0.0330617 , -0.52963775,  0.34819454,  0.11272831, -0.30196306,\n",
      "        -0.09186155, -0.43291205,  0.45761958, -0.05069137,  0.2571835 ],\n",
      "       [ 0.22073615,  0.42076048, -0.21978027, -0.15096615, -0.00644443,\n",
      "         0.05657414,  0.41085017, -0.22933285, -0.18571565, -0.1310973 ],\n",
      "       [-0.19476865, -0.10823934, -0.32989368,  0.354491  , -0.11807735,\n",
      "        -0.3764359 , -0.5517724 , -0.16607587,  0.38015026, -0.28035274],\n",
      "       [-0.21029182, -0.25836298,  0.04204618,  0.3452136 , -0.3989489 ,\n",
      "         0.25556374,  0.03486267, -0.39972714,  0.17899324,  0.07387073],\n",
      "       [ 0.3966824 ,  0.0391186 ,  0.1628735 ,  0.30219677,  0.19745123,\n",
      "        -0.01873819,  0.21487404, -0.30170035, -0.2650004 ,  0.00159791],\n",
      "       [-0.3005121 , -0.11404341, -0.05258621, -0.13944209,  0.39755517,\n",
      "        -0.06623619,  0.16221018,  0.10972419, -0.00967815, -0.416595  ],\n",
      "       [-0.28735858, -0.12139498,  0.38519132,  0.42708555, -0.24348016,\n",
      "         0.18698844, -0.3376841 ,  0.13016918, -0.1282045 , -0.15762429],\n",
      "       [-0.34937298,  0.04366742, -0.2798174 , -0.01871455,  0.1402948 ,\n",
      "        -0.05695556,  0.2446369 ,  0.01876422,  0.34311014, -0.41501805],\n",
      "       [ 0.20347859, -0.46930954, -0.24577402,  0.06526545,  0.19540393,\n",
      "        -0.01476438,  0.399766  ,  0.27032602,  0.43579033,  0.02100836],\n",
      "       [-0.14075373, -0.01691676,  0.1167175 , -0.15901111,  0.26928872,\n",
      "        -0.17848577, -0.12368008, -0.20878229, -0.32085773, -0.33490318],\n",
      "       [-0.509581  ,  0.48249748,  0.2233099 , -0.17342548,  0.22507721,\n",
      "         0.38915282, -0.06773382,  0.08917762,  0.4332993 ,  0.00979476],\n",
      "       [-0.02174727,  0.32048348,  0.07460976, -0.02687959,  0.00380587,\n",
      "        -0.18301922,  0.0034456 , -0.02518574, -0.26545084,  0.02563714],\n",
      "       [-0.2531183 , -0.36005712, -0.08751932, -0.4298145 ,  0.141546  ,\n",
      "         0.34191397,  0.4858921 , -0.589906  ,  0.14367205,  0.05365956],\n",
      "       [ 0.16883732,  0.12372239,  0.14359349, -0.24903634, -0.39416605,\n",
      "        -0.24762943,  0.02322128,  0.0163301 ,  0.24989314, -0.17280582],\n",
      "       [-0.15812705, -0.4493052 , -0.49801353, -0.13699506,  0.08858584,\n",
      "         0.2478381 , -0.01637967,  0.3106572 , -0.07606316,  0.03380619],\n",
      "       [-0.31839204, -0.21128662,  0.3901312 ,  0.1569433 , -0.43999293,\n",
      "         0.0810003 ,  0.11764938, -0.37655258,  0.10278728, -0.37437147],\n",
      "       [ 0.05515445, -0.27475175,  0.39601493, -0.18661629,  0.11509813,\n",
      "        -0.44463617, -0.16225469, -0.09256697,  0.19278522, -0.08274159],\n",
      "       [ 0.0214134 , -0.01767025,  0.25621438, -0.3136193 , -0.41947907,\n",
      "         0.10439534,  0.3933801 ,  0.18989857, -0.43283004, -0.43008518],\n",
      "       [-0.22769277, -0.35592556, -0.29541945,  0.16051172, -0.0413043 ,\n",
      "        -0.13736185, -0.11876273,  0.01489724, -0.61507833,  0.15358216],\n",
      "       [ 0.26493725, -0.10029358, -0.10335434,  0.22924379, -0.429203  ,\n",
      "         0.37476698, -0.4291012 , -0.32532018, -0.16470444,  0.31526276],\n",
      "       [ 0.19180454, -0.48365554,  0.18638404, -0.25377333,  0.34906334,\n",
      "        -0.253695  ,  0.0745187 ,  0.37898698, -0.11184794,  0.29346883],\n",
      "       [-0.29508653,  0.2362386 , -0.5624363 , -0.2841127 , -0.20051464,\n",
      "        -0.47914883, -0.19994329,  0.15813878, -0.24979834,  0.17047101],\n",
      "       [ 0.0607407 , -0.09992921, -0.06956173,  0.34099236,  0.16477142,\n",
      "         0.43795994, -0.39949712,  0.30049747, -0.15353242, -0.08200509],\n",
      "       [-0.36353755,  0.25847206, -0.36297098, -0.04122642, -0.13327332,\n",
      "        -0.15072931, -0.75639725,  0.08274605, -0.3330446 ,  0.34022188],\n",
      "       [-0.34595272, -0.02753938, -0.09628964, -0.15281703,  0.37306172,\n",
      "        -0.21757899, -0.32300022, -0.00323768, -0.31145078,  0.36976928],\n",
      "       [-0.18982589, -0.311444  , -0.32491362, -0.1155974 , -0.342551  ,\n",
      "        -0.03212797,  0.26503888,  0.02698222, -0.14528231, -0.01654366],\n",
      "       [ 0.2175704 , -0.28064743, -0.13800411,  0.05499826, -0.3128499 ,\n",
      "         0.33264798, -0.11884066,  0.09831029,  0.34790862,  0.2508473 ],\n",
      "       [ 0.4738631 ,  0.1008784 , -0.25681832, -0.12717488, -0.11833565,\n",
      "        -0.02080156, -0.10412474, -0.40144864,  0.36809903, -0.12739141],\n",
      "       [-0.46118185,  0.46354347, -0.2867468 ,  0.36849406,  0.35280272,\n",
      "         0.15829052,  0.20645534,  0.14362776,  0.31305692,  0.32394513],\n",
      "       [-0.0586977 ,  0.42350757,  0.30805787, -0.21226163,  0.05531693,\n",
      "        -0.45761815, -0.48855203,  0.15905868,  0.31295887,  0.3004613 ]],\n",
      "      dtype=float32), array([ 0.06264228,  0.01297429, -0.03595001, -0.09685011,  0.11868396,\n",
      "       -0.14040574, -0.05278919, -0.23658034,  0.29125667,  0.02005739],\n",
      "      dtype=float32)]\n"
     ]
    }
   ],
   "source": [
    "for layers in model.layers:\n",
    "    print(layers.get_weights())"
   ]
  },
  {
   "cell_type": "code",
   "execution_count": null,
   "metadata": {},
   "outputs": [],
   "source": []
  }
 ],
 "metadata": {
  "kernelspec": {
   "display_name": "Python 3",
   "language": "python",
   "name": "python3"
  },
  "language_info": {
   "codemirror_mode": {
    "name": "ipython",
    "version": 3
   },
   "file_extension": ".py",
   "mimetype": "text/x-python",
   "name": "python",
   "nbconvert_exporter": "python",
   "pygments_lexer": "ipython3",
   "version": "3.8.5"
  }
 },
 "nbformat": 4,
 "nbformat_minor": 4
}
